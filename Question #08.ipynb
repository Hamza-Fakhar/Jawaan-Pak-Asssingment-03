{
 "cells": [
  {
   "cell_type": "code",
   "execution_count": null,
   "id": "32157da9",
   "metadata": {},
   "outputs": [],
   "source": [
    "#Identify Even or Odd\n",
    "while True:\n",
    "\n",
    " a=int(input(\"Enter any number\"))\n",
    "\n",
    " if a%2==0:\n",
    "    print (\"Your number is Even\")\n",
    " else:\n",
    "    print (\"Your number is Odd\")"
   ]
  }
 ],
 "metadata": {
  "kernelspec": {
   "display_name": "Python 3",
   "language": "python",
   "name": "python3"
  },
  "language_info": {
   "codemirror_mode": {
    "name": "ipython",
    "version": 3
   },
   "file_extension": ".py",
   "mimetype": "text/x-python",
   "name": "python",
   "nbconvert_exporter": "python",
   "pygments_lexer": "ipython3",
   "version": "3.6.13"
  }
 },
 "nbformat": 4,
 "nbformat_minor": 5
}
