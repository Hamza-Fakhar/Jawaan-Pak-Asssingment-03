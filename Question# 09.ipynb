{
 "cells": [
  {
   "cell_type": "code",
   "execution_count": null,
   "id": "8b404901",
   "metadata": {},
   "outputs": [],
   "source": [
    "#Length of List\n",
    "a=[1,11,2,34,5,6,7,85,57,56,78,6,67,4,34,34,65,76,77,8]\n",
    "b=0\n",
    "for i in a:\n",
    "    b+=1\n",
    "print(b)\n",
    "\n",
    "print(\"---For Verication---\")\n",
    "c=len(a)\n",
    "print(c)"
   ]
  }
 ],
 "metadata": {
  "kernelspec": {
   "display_name": "Python 3",
   "language": "python",
   "name": "python3"
  },
  "language_info": {
   "codemirror_mode": {
    "name": "ipython",
    "version": 3
   },
   "file_extension": ".py",
   "mimetype": "text/x-python",
   "name": "python",
   "nbconvert_exporter": "python",
   "pygments_lexer": "ipython3",
   "version": "3.6.13"
  }
 },
 "nbformat": 4,
 "nbformat_minor": 5
}
